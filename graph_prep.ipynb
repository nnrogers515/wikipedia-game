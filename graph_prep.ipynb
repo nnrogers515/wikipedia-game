{
 "cells": [
  {
   "cell_type": "code",
   "execution_count": null,
   "metadata": {},
   "outputs": [],
   "source": [
    "import pandas as pd\n",
    "import numpy as np\n",
    "import numpy.linalg as la\n",
    "from urllib.parse import unquote"
   ]
  },
  {
   "cell_type": "code",
   "execution_count": null,
   "metadata": {},
   "outputs": [],
   "source": [
    "df = pd.read_csv('links.tsv', sep='\\t', header=None, skiprows=12, encoding='utf-8')"
   ]
  },
  {
   "cell_type": "code",
   "execution_count": null,
   "metadata": {},
   "outputs": [],
   "source": [
    "df.head()"
   ]
  },
  {
   "cell_type": "markdown",
   "metadata": {},
   "source": [
    "## Note the encoded urls of the initial dataset. The following decodes it into a more readable format; these are still valid wikipedia endpoints."
   ]
  },
  {
   "cell_type": "code",
   "execution_count": null,
   "metadata": {},
   "outputs": [],
   "source": [
    "df.iloc[:,0] = df.iloc[:,0].apply(unquote)\n",
    "df.iloc[:, 1] = df.iloc[:,1].apply(unquote)"
   ]
  },
  {
   "cell_type": "code",
   "execution_count": null,
   "metadata": {},
   "outputs": [],
   "source": [
    "df"
   ]
  },
  {
   "cell_type": "markdown",
   "metadata": {},
   "source": [
    "## We made a design decision to remove all links that link back to themselves. This was because of our implementation, and noting we don't lose too many entries on dropping these"
   ]
  },
  {
   "cell_type": "code",
   "execution_count": null,
   "metadata": {},
   "outputs": [],
   "source": [
    "cycles = df[df.iloc[:,0] == df.iloc[:,1]]\n",
    "cycles"
   ]
  },
  {
   "cell_type": "code",
   "execution_count": null,
   "metadata": {},
   "outputs": [],
   "source": [
    "df_no_cycs = df.drop(cycles.index)\n",
    "df_no_cycs"
   ]
  },
  {
   "cell_type": "markdown",
   "metadata": {},
   "source": [
    "## Writes our decoded dataframe with dropped self-cycles to a new .tsv. This set is what we use for our graph"
   ]
  },
  {
   "cell_type": "code",
   "execution_count": null,
   "metadata": {},
   "outputs": [],
   "source": [
    "df_no_cycs.to_csv(\"decoded_links.tsv\", sep=\"\\t\", index=False, header=False, line_terminator=\"\\n\", encoding=\"utf-8\")"
   ]
  },
  {
   "cell_type": "markdown",
   "metadata": {},
   "source": [
    "## The following cells are used to generate expected results of a converged PageRank algorithm, based on test cases found within our code\n",
    "#### Implementation based on CS357 content: https://courses.grainger.illinois.edu/cs357/fa2020/assets/lectures/complete-slides/13-Markov-Chains.pdf"
   ]
  },
  {
   "cell_type": "code",
   "execution_count": null,
   "metadata": {},
   "outputs": [],
   "source": [
    "def normalize_cols(M):\n",
    "    '''\n",
    "    Normalizes the columns of a matrix to 1\n",
    "    '''\n",
    "    for i in range(len(M)):\n",
    "        norm = la.norm(M[:,i], ord=1)\n",
    "        M[:,i] = M[:,i]/norm if norm != 0 else (1/len(M))\n",
    "    return M"
   ]
  },
  {
   "cell_type": "code",
   "execution_count": null,
   "metadata": {},
   "outputs": [],
   "source": [
    "def G_mat(M, alpha, n):\n",
    "    '''\n",
    "    Produces the G matrix based on the size of our M and desired alpha\n",
    "    '''\n",
    "    ones = np.ones((n,n))\n",
    "    G = alpha*M+(1-alpha)*(1/n)*ones\n",
    "    return G"
   ]
  },
  {
   "cell_type": "code",
   "execution_count": null,
   "metadata": {},
   "outputs": [],
   "source": [
    "def page_rank(M, alpha=0.85):\n",
    "    '''\n",
    "    The power iteration to determine the PageRank of a page\n",
    "    '''\n",
    "    n = M.shape[0]\n",
    "    G = G_mat(M, alpha, n)\n",
    "    x = np.random.rand(n)\n",
    "    x = x/la.norm(x, ord=1)\n",
    "    \n",
    "    diff = 1\n",
    "    while diff > 1e-7:\n",
    "        xprev = x\n",
    "        x = G@x\n",
    "        diff = la.norm(x - xprev,2)\n",
    "    return x"
   ]
  },
  {
   "cell_type": "code",
   "execution_count": null,
   "metadata": {},
   "outputs": [],
   "source": [
    "def sort_results(vertices, x):\n",
    "    '''\n",
    "    Sorts the resulting vector, x, and the corresponding vertices\n",
    "    '''\n",
    "    indices = x.argsort()[::-1]\n",
    "    return (x[indices], [verts[i] for i in indices])"
   ]
  },
  {
   "cell_type": "markdown",
   "metadata": {},
   "source": [
    "## This matrix is the representation of our connected_graph.tsv"
   ]
  },
  {
   "cell_type": "code",
   "execution_count": null,
   "metadata": {},
   "outputs": [],
   "source": [
    "verts = [\"A\", \"B\", \"C\", \"D\", \"E\", \"F\", \"G\"]\n",
    "M = np.array([\n",
    "    [0, 0, 0, 0, 1, 1, 0],\n",
    "    [0, 0, 1, 0, 1, 0, 0],\n",
    "    [0, 0, 0, 0, 1, 0, 1],\n",
    "    [1, 0, 0, 0, 1, 0, 0],\n",
    "    [0, 0, 0, 0, 0, 0, 0],\n",
    "    [0, 1, 0, 0, 1, 0, 0],\n",
    "    [0, 0, 0, 1, 1, 0, 0],\n",
    "], dtype='float64')\n",
    "M = normalize_cols(M)\n",
    "x = page_rank(M)\n",
    "results = sort_results(verts, x)"
   ]
  },
  {
   "cell_type": "code",
   "execution_count": null,
   "metadata": {},
   "outputs": [],
   "source": [
    "results"
   ]
  },
  {
   "cell_type": "markdown",
   "metadata": {},
   "source": [
    "## This matrix is the representation of our disconnected_graph.tsv"
   ]
  },
  {
   "cell_type": "code",
   "execution_count": null,
   "metadata": {},
   "outputs": [],
   "source": [
    "verts = [\"A\", \"B\", \"C\", \"D\", \"E\", \"F\", \"G\", \"H\"]\n",
    "M = np.array([\n",
    "    [0, 0, 0, 0, 0, 0, 0, 0],\n",
    "    [1, 0, 0, 0, 0, 0, 0, 0],\n",
    "    [1, 0, 0, 1, 0, 0, 0, 0],\n",
    "    [0, 0, 0, 0, 0, 0, 0, 0],\n",
    "    [0, 0, 0, 0, 0, 0, 0, 1],\n",
    "    [0, 0, 0, 0, 1, 0, 0, 0],\n",
    "    [0, 0, 0, 0, 1, 0, 0, 0],\n",
    "    [0, 0, 0, 0, 0, 1, 1, 0],\n",
    "], dtype='float64')\n",
    "M = normalize_cols(M)\n",
    "x = page_rank(M)\n",
    "results = sort_results(verts, x)"
   ]
  },
  {
   "cell_type": "code",
   "execution_count": null,
   "metadata": {},
   "outputs": [],
   "source": [
    "results"
   ]
  },
  {
   "cell_type": "markdown",
   "metadata": {},
   "source": [
    "## This matrix is the representation of our complex_graph.tsv"
   ]
  },
  {
   "cell_type": "code",
   "execution_count": null,
   "metadata": {},
   "outputs": [],
   "source": [
    "verts = [\"A\", \"B\", \"C\", \"D\", \"E\", \"F\", \"G\", \"H\", \"I\", \"J\", \"K\", \"L\"]\n",
    "M = np.array([\n",
    "    [0, 0, 0, 0, 0, 0, 0, 0, 0, 0, 0, 0],\n",
    "    [0, 0, 0, 0, 0, 1, 0, 0, 0, 1, 0, 0],\n",
    "    [0, 0, 0, 1, 1, 1, 0, 0, 0, 0, 0, 0],\n",
    "    [0, 0, 0, 0, 0, 0, 0, 0, 0, 0, 0, 0],\n",
    "    [1, 1, 0, 1, 0, 0, 0, 0, 0, 1, 0, 0],\n",
    "    [0, 0, 1, 0, 0, 0, 0, 0, 0, 0, 0, 0],\n",
    "    [0, 0, 0, 0, 0, 0, 0, 0, 0, 0, 0, 0],\n",
    "    [0, 0, 0, 0, 1, 1, 1, 0, 0, 0, 1, 0],\n",
    "    [0, 0, 0, 0, 1, 0, 0, 1, 0, 0, 0, 1],\n",
    "    [1, 0, 0, 0, 0, 0, 0, 0, 0, 0, 0, 1],\n",
    "    [1, 0, 0, 0, 0, 0, 0, 1, 1, 0, 0, 0],\n",
    "    [0, 0, 0, 0, 0, 0, 0, 0, 0, 0, 1, 0]\n",
    "], dtype='float64')\n",
    "M = normalize_cols(M)\n",
    "x = page_rank(M)\n",
    "results = sort_results(verts, x)"
   ]
  },
  {
   "cell_type": "code",
   "execution_count": null,
   "metadata": {},
   "outputs": [],
   "source": [
    "results"
   ]
  }
 ],
 "metadata": {
  "kernelspec": {
   "display_name": "Python 3",
   "language": "python",
   "name": "python3"
  },
  "language_info": {
   "codemirror_mode": {
    "name": "ipython",
    "version": 3
   },
   "file_extension": ".py",
   "mimetype": "text/x-python",
   "name": "python",
   "nbconvert_exporter": "python",
   "pygments_lexer": "ipython3",
   "version": "3.8.3"
  }
 },
 "nbformat": 4,
 "nbformat_minor": 4
}
